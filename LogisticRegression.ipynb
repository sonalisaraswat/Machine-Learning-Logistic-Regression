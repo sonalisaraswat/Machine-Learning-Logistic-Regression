{
 "cells": [
  {
   "cell_type": "code",
   "execution_count": 1,
   "metadata": {},
   "outputs": [],
   "source": [
    "import numpy as np\n",
    "import pandas as pd\n",
    "import matplotlib.pyplot as plt"
   ]
  },
  {
   "cell_type": "code",
   "execution_count": 2,
   "metadata": {},
   "outputs": [],
   "source": [
    "def sigmoid(mat):\n",
    "    return 1/(1+np.exp(-mat))"
   ]
  },
  {
   "cell_type": "code",
   "execution_count": 3,
   "metadata": {},
   "outputs": [],
   "source": [
    "def ComputeCost(X, y, theta):\n",
    "    y = y.to_numpy()\n",
    "    grad = np.zeros([n,1])\n",
    "    hx = sigmoid(X.dot(theta))\n",
    "    \n",
    "    J = (1/m)*np.sum(-(y*(np.log(hx))) - ((1-y)*(np.log(1-hx))))\n",
    "    \n",
    "    for i in range(n):\n",
    "        x = pd.DataFrame(X.iloc[:,i])\n",
    "        grad[i] = (1/m)*np.sum((hx-y)*(x.to_numpy()))\n",
    "    return J,grad"
   ]
  },
  {
   "cell_type": "code",
   "execution_count": 4,
   "metadata": {},
   "outputs": [],
   "source": [
    "def predict(Input):\n",
    "    ans = sigmoid(np.array(Input).dot(theta))\n",
    "    if ans >= 0.5:\n",
    "        ans = 1\n",
    "    else:\n",
    "        ans = 0\n",
    "    return ans"
   ]
  },
  {
   "cell_type": "code",
   "execution_count": 5,
   "metadata": {},
   "outputs": [],
   "source": [
    "df = pd.read_csv('ex2data1.txt')\n",
    "X = pd.DataFrame(df.iloc[:,0:2])\n",
    "y = pd.DataFrame(df.iloc[:,2])"
   ]
  },
  {
   "cell_type": "code",
   "execution_count": 6,
   "metadata": {},
   "outputs": [
    {
     "data": {
      "text/plain": [
       "<matplotlib.collections.PathCollection at 0xbfbb360670>"
      ]
     },
     "execution_count": 6,
     "metadata": {},
     "output_type": "execute_result"
    },
    {
     "data": {
      "image/png": "[encoded data removed]",
      "text/plain": [
       "<Figure size 432x288 with 1 Axes>"
      ]
     },
     "metadata": {
      "needs_background": "light"
     },
     "output_type": "display_data"
    }
   ],
   "source": [
    "m = len(y)\n",
    "col1 = ['r']*int(m/2)+['b']*int(m/2)\n",
    "plt.xlabel('Scores')\n",
    "plt.ylabel('Result')\n",
    "plt.scatter((df.iloc[:,0]+df.iloc[:,1]), df.iloc[:,2], c = col1, alpha = 0.8)"
   ]
  },
  {
   "cell_type": "code",
   "execution_count": 7,
   "metadata": {},
   "outputs": [
    {
     "name": "stdout",
     "output_type": "stream",
     "text": [
      "    0     Score1     Score2\n",
      "0   1  34.623660  78.024693\n",
      "1   1  30.286711  43.894998\n",
      "2   1  35.847409  72.902198\n",
      "3   1  60.182599  86.308552\n",
      "4   1  79.032736  75.344376\n",
      ".. ..        ...        ...\n",
      "95  1  83.489163  48.380286\n",
      "96  1  42.261701  87.103851\n",
      "97  1  99.315009  68.775409\n",
      "98  1  55.340018  64.931938\n",
      "99  1  74.775893  89.529813\n",
      "\n",
      "[100 rows x 3 columns]\n",
      "    Result\n",
      "0        0\n",
      "1        0\n",
      "2        0\n",
      "3        1\n",
      "4        1\n",
      "..     ...\n",
      "95       1\n",
      "96       1\n",
      "97       1\n",
      "98       1\n",
      "99       1\n",
      "\n",
      "[100 rows x 1 columns]\n"
     ]
    }
   ],
   "source": [
    "extra = np.ones([m,1], dtype = int)\n",
    "X = pd.concat([pd.DataFrame(extra), X], axis = 1)\n",
    "n = len(X.columns)\n",
    "theta = np.zeros([n,1], dtype = float)\n",
    "print(X)\n",
    "print(y)"
   ]
  },
  {
   "cell_type": "code",
   "execution_count": 8,
   "metadata": {},
   "outputs": [
    {
     "name": "stdout",
     "output_type": "stream",
     "text": [
      "0    0.693147\n",
      "dtype: float64\n",
      "[[ -0.1       ]\n",
      " [-12.00921659]\n",
      " [-11.26284221]]\n"
     ]
    }
   ],
   "source": [
    "J, grad = (ComputeCost(X, y, theta))\n",
    "print(J)\n",
    "print(grad)"
   ]
  },
  {
   "cell_type": "code",
   "execution_count": 9,
   "metadata": {},
   "outputs": [
    {
     "name": "stdout",
     "output_type": "stream",
     "text": [
      "0    0.21833\n",
      "dtype: float64\n",
      "[[0.04290299]\n",
      " [2.56623412]\n",
      " [2.64679737]]\n"
     ]
    }
   ],
   "source": [
    "#using different values of theta\n",
    "theta = [[-24], [0.2], [0.2]]\n",
    "J, grad = ComputeCost(X, y,theta)\n",
    "print(J)\n",
    "print(grad)"
   ]
  },
  {
   "cell_type": "code",
   "execution_count": 10,
   "metadata": {},
   "outputs": [
    {
     "name": "stdout",
     "output_type": "stream",
     "text": [
      "1\n"
     ]
    }
   ],
   "source": [
    "Input = [1, 74.56, 77.34]\n",
    "print(predict(Input))"
   ]
  },
  {
   "cell_type": "code",
   "execution_count": 11,
   "metadata": {},
   "outputs": [
    {
     "name": "stdout",
     "output_type": "stream",
     "text": [
      "Enter Score 1  and Score 2 with space seperation.67 76\n",
      "1\n"
     ]
    }
   ],
   "source": [
    "Input = [1]\n",
    "s1,s2 = [float(x) for x in input(\"Enter Score 1  and Score 2 with space seperation.\").split()]\n",
    "Input.append(s1)    # Score is to be entered as input to model\n",
    "Input.append(s2)\n",
    "print(predict(Input))     "
   ]
  },
  {
   "cell_type": "code",
   "execution_count": null,
   "metadata": {},
   "outputs": [],
   "source": []
  },
  {
   "cell_type": "code",
   "execution_count": null,
   "metadata": {},
   "outputs": [],
   "source": []
  },
  {
   "cell_type": "code",
   "execution_count": null,
   "metadata": {},
   "outputs": [],
   "source": []
  },
  {
   "cell_type": "code",
   "execution_count": null,
   "metadata": {},
   "outputs": [],
   "source": []
  }
 ],
 "metadata": {
  "kernelspec": {
   "display_name": "Python 3",
   "language": "python",
   "name": "python3"
  },
  "language_info": {
   "codemirror_mode": {
    "name": "ipython",
    "version": 3
   },
   "file_extension": ".py",
   "mimetype": "text/x-python",
   "name": "python",
   "nbconvert_exporter": "python",
   "pygments_lexer": "ipython3",
   "version": "3.8.2"
  }
 },
 "nbformat": 4,
 "nbformat_minor": 4
}
